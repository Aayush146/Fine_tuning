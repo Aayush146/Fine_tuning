{
 "cells": [
  {
   "cell_type": "markdown",
   "metadata": {
    "application/vnd.databricks.v1+cell": {
     "cellMetadata": {},
     "inputWidgets": {},
     "nuid": "778e4ea8-5347-468d-ba73-fa12c9fc162b",
     "showTitle": false,
     "tableResultSettingsMap": {},
     "title": ""
    }
   },
   "source": [
    "## Create your dataset\n",
    "Fine-tuning is the process of taking a pre-trained model and further training it on a domain-specific dataset. The image below illustrates what a typical fine tuning process might look like. \n",
    "\n",
    "However, before we begin to fine tune, your dataset needs to be prepared in a way the model can injest during fine tuning. Hence, this notebook will explain the concept of chat templates and data storage formats to help prepare your dataset for fine tuning\n",
    "\n",
    "\n"
   ]
  },
  {
   "cell_type": "markdown",
   "metadata": {
    "application/vnd.databricks.v1+cell": {
     "cellMetadata": {},
     "inputWidgets": {},
     "nuid": "42296232-32a4-4bd4-930b-0c621dddb0f7",
     "showTitle": false,
     "tableResultSettingsMap": {},
     "title": ""
    }
   },
   "source": [
    "![Fine_tuning.jpg](./Fine_tuning.jpg \"Fine_tuning.jpg\")"
   ]
  },
  {
   "cell_type": "markdown",
   "metadata": {
    "application/vnd.databricks.v1+cell": {
     "cellMetadata": {},
     "inputWidgets": {},
     "nuid": "5a7d544e-b01b-4aa7-b19f-9b0b1e924101",
     "showTitle": false,
     "tableResultSettingsMap": {},
     "title": ""
    }
   },
   "source": [
    "## \n",
    "## Pre-requisites\n",
    "\n",
    "Before continuing, you would need to have a hugging face account. If you head to: https://huggingface.co/ , you should be able to create an one.\n",
    "\n",
    "Next you will need access to Llama 3.2 1B, which is the model we will use for this task.  Use the link: https://huggingface.co/meta-llama/Llama-3.2-1B \n",
    "\n",
    "Once you reach the website, complete the required form (Do not mention that you are affliated to Accenture! Use a random univeristy maybe)\n",
    "\n",
    "Once you have your HuggingFace account, create an access token to use. Head to your profile on the top right of your page and select \"access tokens\". Once created, you can store it in a notepad in your local machine."
   ]
  },
  {
   "cell_type": "markdown",
   "metadata": {
    "application/vnd.databricks.v1+cell": {
     "cellMetadata": {},
     "inputWidgets": {},
     "nuid": "fd56f8a9-b790-4ea7-8d82-9f789a79c9e0",
     "showTitle": false,
     "tableResultSettingsMap": {},
     "title": ""
    }
   },
   "source": [
    "## Install and import libraries\n",
    "Lets install and import the required dependencies:"
   ]
  },
  {
   "cell_type": "code",
   "execution_count": 0,
   "metadata": {
    "application/vnd.databricks.v1+cell": {
     "cellMetadata": {
      "byteLimit": 2048000,
      "rowLimit": 10000
     },
     "inputWidgets": {},
     "nuid": "43529afd-fea5-4c75-80c4-f732f1e1cce4",
     "showTitle": false,
     "tableResultSettingsMap": {},
     "title": ""
    }
   },
   "outputs": [
    {
     "output_type": "stream",
     "name": "stdout",
     "output_type": "stream",
     "text": [
      "Requirement already satisfied: transformers in /databricks/python3/lib/python3.12/site-packages (4.44.0)\nRequirement already satisfied: datasets in /databricks/python3/lib/python3.12/site-packages (2.20.0)\nCollecting bitsandbytes\n  Using cached bitsandbytes-0.45.1-py3-none-manylinux_2_24_x86_64.whl.metadata (5.8 kB)\nCollecting peft\n  Using cached peft-0.14.0-py3-none-any.whl.metadata (13 kB)\nCollecting trl\n  Using cached trl-0.14.0-py3-none-any.whl.metadata (12 kB)\nRequirement already satisfied: accelerate in /databricks/python3/lib/python3.12/site-packages (0.33.0)\nRequirement already satisfied: torch in /databricks/python3/lib/python3.12/site-packages (2.4.0+cu124)\nRequirement already satisfied: filelock in /databricks/python3/lib/python3.12/site-packages (from transformers) (3.13.1)\nRequirement already satisfied: huggingface-hub<1.0,>=0.23.2 in /databricks/python3/lib/python3.12/site-packages (from transformers) (0.24.5)\nRequirement already satisfied: numpy>=1.17 in /databricks/python3/lib/python3.12/site-packages (from transformers) (1.26.4)\nRequirement already satisfied: packaging>=20.0 in /databricks/python3/lib/python3.12/site-packages (from transformers) (24.2)\nRequirement already satisfied: pyyaml>=5.1 in /databricks/python3/lib/python3.12/site-packages (from transformers) (6.0.1)\nRequirement already satisfied: regex!=2019.12.17 in /databricks/python3/lib/python3.12/site-packages (from transformers) (2023.10.3)\nRequirement already satisfied: requests in /databricks/python3/lib/python3.12/site-packages (from transformers) (2.32.2)\nRequirement already satisfied: safetensors>=0.4.1 in /databricks/python3/lib/python3.12/site-packages (from transformers) (0.4.4)\nRequirement already satisfied: tokenizers<0.20,>=0.19 in /databricks/python3/lib/python3.12/site-packages (from transformers) (0.19.1)\nRequirement already satisfied: tqdm>=4.27 in /databricks/python3/lib/python3.12/site-packages (from transformers) (4.66.4)\nRequirement already satisfied: pyarrow>=15.0.0 in /databricks/python3/lib/python3.12/site-packages (from datasets) (15.0.2)\nRequirement already satisfied: pyarrow-hotfix in /databricks/python3/lib/python3.12/site-packages (from datasets) (0.6)\nRequirement already satisfied: dill<0.3.9,>=0.3.0 in /databricks/python3/lib/python3.12/site-packages (from datasets) (0.3.8)\nRequirement already satisfied: pandas in /databricks/python3/lib/python3.12/site-packages (from datasets) (1.5.3)\nRequirement already satisfied: xxhash in /databricks/python3/lib/python3.12/site-packages (from datasets) (3.4.1)\nRequirement already satisfied: multiprocess in /databricks/python3/lib/python3.12/site-packages (from datasets) (0.70.16)\nRequirement already satisfied: fsspec<=2024.5.0,>=2023.1.0 in /databricks/python3/lib/python3.12/site-packages (from fsspec[http]<=2024.5.0,>=2023.1.0->datasets) (2023.5.0)\nRequirement already satisfied: aiohttp in /databricks/python3/lib/python3.12/site-packages (from datasets) (3.9.5)\nRequirement already satisfied: psutil in /databricks/python3/lib/python3.12/site-packages (from peft) (5.9.0)\nCollecting huggingface-hub<1.0,>=0.23.2 (from transformers)\n  Using cached huggingface_hub-0.28.0-py3-none-any.whl.metadata (13 kB)\nCollecting accelerate\n  Using cached accelerate-1.3.0-py3-none-any.whl.metadata (19 kB)\nCollecting datasets\n  Using cached datasets-3.2.0-py3-none-any.whl.metadata (20 kB)\nRequirement already satisfied: rich in /databricks/python3/lib/python3.12/site-packages (from trl) (13.3.5)\nCollecting transformers\n  Using cached transformers-4.48.1-py3-none-any.whl.metadata (44 kB)\nCollecting tokenizers<0.22,>=0.21 (from transformers)\n  Using cached tokenizers-0.21.0-cp39-abi3-manylinux_2_17_x86_64.manylinux2014_x86_64.whl.metadata (6.7 kB)\nRequirement already satisfied: typing-extensions>=4.8.0 in /databricks/python3/lib/python3.12/site-packages (from torch) (4.11.0)\nRequirement already satisfied: sympy in /databricks/python3/lib/python3.12/site-packages (from torch) (1.12)\nRequirement already satisfied: networkx in /databricks/python3/lib/python3.12/site-packages (from torch) (3.2.1)\nRequirement already satisfied: jinja2 in /databricks/python3/lib/python3.12/site-packages (from torch) (3.1.4)\nRequirement already satisfied: setuptools in /usr/local/lib/python3.12/dist-packages (from torch) (74.0.0)\nRequirement already satisfied: nvidia-cuda-nvrtc-cu12==12.4.99 in /databricks/python3/lib/python3.12/site-packages (from torch) (12.4.99)\nRequirement already satisfied: nvidia-cuda-runtime-cu12==12.4.99 in /databricks/python3/lib/python3.12/site-packages (from torch) (12.4.99)\nRequirement already satisfied: nvidia-cuda-cupti-cu12==12.4.99 in /databricks/python3/lib/python3.12/site-packages (from torch) (12.4.99)\nRequirement already satisfied: nvidia-cudnn-cu12==9.1.0.70 in /databricks/python3/lib/python3.12/site-packages (from torch) (9.1.0.70)\nRequirement already satisfied: nvidia-cublas-cu12==12.4.2.65 in /databricks/python3/lib/python3.12/site-packages (from torch) (12.4.2.65)\nRequirement already satisfied: nvidia-cufft-cu12==11.2.0.44 in /databricks/python3/lib/python3.12/site-packages (from torch) (11.2.0.44)\nRequirement already satisfied: nvidia-curand-cu12==10.3.5.119 in /databricks/python3/lib/python3.12/site-packages (from torch) (10.3.5.119)\nRequirement already satisfied: nvidia-cusolver-cu12==11.6.0.99 in /databricks/python3/lib/python3.12/site-packages (from torch) (11.6.0.99)\nRequirement already satisfied: nvidia-cusparse-cu12==12.3.0.142 in /databricks/python3/lib/python3.12/site-packages (from torch) (12.3.0.142)\nRequirement already satisfied: nvidia-nccl-cu12==2.20.5 in /databricks/python3/lib/python3.12/site-packages (from torch) (2.20.5)\nRequirement already satisfied: nvidia-nvtx-cu12==12.4.99 in /databricks/python3/lib/python3.12/site-packages (from torch) (12.4.99)\nRequirement already satisfied: nvidia-nvjitlink-cu12==12.4.99 in /databricks/python3/lib/python3.12/site-packages (from torch) (12.4.99)\nRequirement already satisfied: triton==3.0.0 in /databricks/python3/lib/python3.12/site-packages (from torch) (3.0.0)\nRequirement already satisfied: aiosignal>=1.1.2 in /databricks/python3/lib/python3.12/site-packages (from aiohttp->datasets) (1.2.0)\nRequirement already satisfied: attrs>=17.3.0 in /databricks/python3/lib/python3.12/site-packages (from aiohttp->datasets) (23.1.0)\nRequirement already satisfied: frozenlist>=1.1.1 in /databricks/python3/lib/python3.12/site-packages (from aiohttp->datasets) (1.4.0)\nRequirement already satisfied: multidict<7.0,>=4.5 in /databricks/python3/lib/python3.12/site-packages (from aiohttp->datasets) (6.0.4)\nRequirement already satisfied: yarl<2.0,>=1.0 in /databricks/python3/lib/python3.12/site-packages (from aiohttp->datasets) (1.9.3)\nRequirement already satisfied: charset-normalizer<4,>=2 in /databricks/python3/lib/python3.12/site-packages (from requests->transformers) (2.0.4)\nRequirement already satisfied: idna<4,>=2.5 in /databricks/python3/lib/python3.12/site-packages (from requests->transformers) (3.7)\nRequirement already satisfied: urllib3<3,>=1.21.1 in /databricks/python3/lib/python3.12/site-packages (from requests->transformers) (1.26.16)\nRequirement already satisfied: certifi>=2017.4.17 in /databricks/python3/lib/python3.12/site-packages (from requests->transformers) (2024.6.2)\nRequirement already satisfied: MarkupSafe>=2.0 in /databricks/python3/lib/python3.12/site-packages (from jinja2->torch) (2.1.3)\nRequirement already satisfied: python-dateutil>=2.8.1 in /databricks/python3/lib/python3.12/site-packages (from pandas->datasets) (2.9.0.post0)\nRequirement already satisfied: pytz>=2020.1 in /databricks/python3/lib/python3.12/site-packages (from pandas->datasets) (2024.1)\nRequirement already satisfied: markdown-it-py<3.0.0,>=2.2.0 in /databricks/python3/lib/python3.12/site-packages (from rich->trl) (2.2.0)\nRequirement already satisfied: pygments<3.0.0,>=2.13.0 in /databricks/python3/lib/python3.12/site-packages (from rich->trl) (2.15.1)\nRequirement already satisfied: mpmath>=0.19 in /databricks/python3/lib/python3.12/site-packages (from sympy->torch) (1.3.0)\nRequirement already satisfied: mdurl~=0.1 in /databricks/python3/lib/python3.12/site-packages (from markdown-it-py<3.0.0,>=2.2.0->rich->trl) (0.1.0)\nRequirement already satisfied: six>=1.5 in /usr/lib/python3/dist-packages (from python-dateutil>=2.8.1->pandas->datasets) (1.16.0)\nUsing cached bitsandbytes-0.45.1-py3-none-manylinux_2_24_x86_64.whl (69.7 MB)\nUsing cached peft-0.14.0-py3-none-any.whl (374 kB)\nUsing cached trl-0.14.0-py3-none-any.whl (313 kB)\nUsing cached transformers-4.48.1-py3-none-any.whl (9.7 MB)\nUsing cached datasets-3.2.0-py3-none-any.whl (480 kB)\nUsing cached accelerate-1.3.0-py3-none-any.whl (336 kB)\nUsing cached huggingface_hub-0.28.0-py3-none-any.whl (464 kB)\nUsing cached tokenizers-0.21.0-cp39-abi3-manylinux_2_17_x86_64.manylinux2014_x86_64.whl (3.0 MB)\nInstalling collected packages: huggingface-hub, tokenizers, transformers, datasets, bitsandbytes, accelerate, trl, peft\n  Attempting uninstall: huggingface-hub\n    Found existing installation: huggingface-hub 0.24.5\n    Not uninstalling huggingface-hub at /databricks/python3/lib/python3.12/site-packages, outside environment /local_disk0/.ephemeral_nfs/envs/pythonEnv-fc30a328-fd74-485d-b74e-66938cff97d6\n    Can't uninstall 'huggingface-hub'. No files were found to uninstall.\n  Attempting uninstall: tokenizers\n    Found existing installation: tokenizers 0.19.1\n    Not uninstalling tokenizers at /databricks/python3/lib/python3.12/site-packages, outside environment /local_disk0/.ephemeral_nfs/envs/pythonEnv-fc30a328-fd74-485d-b74e-66938cff97d6\n    Can't uninstall 'tokenizers'. No files were found to uninstall.\n  Attempting uninstall: transformers\n    Found existing installation: transformers 4.44.0\n    Not uninstalling transformers at /databricks/python3/lib/python3.12/site-packages, outside environment /local_disk0/.ephemeral_nfs/envs/pythonEnv-fc30a328-fd74-485d-b74e-66938cff97d6\n    Can't uninstall 'transformers'. No files were found to uninstall.\n  Attempting uninstall: datasets\n    Found existing installation: datasets 2.20.0\n    Not uninstalling datasets at /databricks/python3/lib/python3.12/site-packages, outside environment /local_disk0/.ephemeral_nfs/envs/pythonEnv-fc30a328-fd74-485d-b74e-66938cff97d6\n    Can't uninstall 'datasets'. No files were found to uninstall.\n  Attempting uninstall: accelerate\n    Found existing installation: accelerate 0.33.0\n    Not uninstalling accelerate at /databricks/python3/lib/python3.12/site-packages, outside environment /local_disk0/.ephemeral_nfs/envs/pythonEnv-fc30a328-fd74-485d-b74e-66938cff97d6\n    Can't uninstall 'accelerate'. No files were found to uninstall.\nSuccessfully installed accelerate-1.3.0 bitsandbytes-0.45.1 datasets-3.2.0 huggingface-hub-0.28.0 peft-0.14.0 tokenizers-0.21.0 transformers-4.48.1 trl-0.14.0\n\u001B[43mNote: you may need to restart the kernel using %restart_python or dbutils.library.restartPython() to use updated packages.\u001B[0m\n"
     ]
    }
   ],
   "source": [
    "!pip install transformers datasets bitsandbytes peft trl accelerate torch "
   ]
  },
  {
   "cell_type": "code",
   "execution_count": 0,
   "metadata": {
    "application/vnd.databricks.v1+cell": {
     "cellMetadata": {
      "byteLimit": 2048000,
      "rowLimit": 10000
     },
     "inputWidgets": {},
     "nuid": "bcf13ccc-a45c-4efc-bd5a-c6efd2fd9783",
     "showTitle": false,
     "tableResultSettingsMap": {},
     "title": ""
    }
   },
   "outputs": [],
   "source": [
    "%restart_python"
   ]
  },
  {
   "cell_type": "code",
   "execution_count": 0,
   "metadata": {
    "application/vnd.databricks.v1+cell": {
     "cellMetadata": {
      "byteLimit": 2048000,
      "rowLimit": 10000
     },
     "inputWidgets": {},
     "nuid": "45032986-6cc2-4ced-8ace-670457cfcf14",
     "showTitle": false,
     "tableResultSettingsMap": {},
     "title": ""
    }
   },
   "outputs": [
    {
     "output_type": "stream",
     "name": "stderr",
     "output_type": "stream",
     "text": [
      "2025-01-29 18:06:28.943401: E external/local_xla/xla/stream_executor/cuda/cuda_fft.cc:477] Unable to register cuFFT factory: Attempting to register factory for plugin cuFFT when one has already been registered\nWARNING: All log messages before absl::InitializeLog() is called are written to STDERR\nE0000 00:00:1738173988.954789   10358 cuda_dnn.cc:8310] Unable to register cuDNN factory: Attempting to register factory for plugin cuDNN when one has already been registered\nE0000 00:00:1738173988.958271   10358 cuda_blas.cc:1418] Unable to register cuBLAS factory: Attempting to register factory for plugin cuBLAS when one has already been registered\n2025-01-29 18:06:28.970714: I tensorflow/core/platform/cpu_feature_guard.cc:210] This TensorFlow binary is optimized to use available CPU instructions in performance-critical operations.\nTo enable the following instructions: AVX2 FMA, in other operations, rebuild TensorFlow with the appropriate compiler flags.\n"
     ]
    }
   ],
   "source": [
    "\n",
    "import torch \n",
    "import os\n",
    "from datasets import load_dataset, Dataset# load datasets from hugging face \n",
    "from transformers import (AutoModelForCausalLM, AutoTokenizer, BitsAndBytesConfig, TrainingArguments, DataCollatorForSeq2Seq) \n",
    "from trl import SFTConfig, SFTTrainer\n",
    "import pandas as pd \n",
    "import numpy as np \n",
    "import matplotlib.pyplot as plt\n",
    "import torch \n",
    "import seaborn as sns\n",
    "from peft import LoraConfig, prepare_model_for_kbit_training"
   ]
  },
  {
   "cell_type": "markdown",
   "metadata": {
    "application/vnd.databricks.v1+cell": {
     "cellMetadata": {},
     "inputWidgets": {},
     "nuid": "fcb3fef0-0faa-49df-b333-1af8061e5d30",
     "showTitle": false,
     "tableResultSettingsMap": {},
     "title": ""
    }
   },
   "source": [
    "## \n",
    "## Load the dataset from HuggingFace\n",
    "\n",
    "To better understand this process, we will define a use case. We will work with a dataset on medical summaries, which will allow a model to learn complex medical jargon that it otherwise may not understand. \n",
    "\n",
    "HuggingFace comes with many such open source datasets, hence, we will work with a dataset readily available on the platform. \n",
    "\n",
    "Link to dataset: https://huggingface.co/datasets/ZhongshengWang/Alpaca-pubmed-summarization?row=5\n",
    " "
   ]
  },
  {
   "cell_type": "code",
   "execution_count": 0,
   "metadata": {
    "application/vnd.databricks.v1+cell": {
     "cellMetadata": {
      "byteLimit": 2048000,
      "rowLimit": 10000
     },
     "inputWidgets": {},
     "nuid": "6f78ef61-c68d-4ce9-a9c2-c1e653d18906",
     "showTitle": false,
     "tableResultSettingsMap": {},
     "title": ""
    }
   },
   "outputs": [
    {
     "output_type": "stream",
     "name": "stderr",
     "output_type": "stream",
     "text": [
      "/databricks/python_shell/lib/dbruntime/huggingface_patches/datasets.py:45: UserWarning: The cache_dir for this dataset is /root/.cache, which is not a persistent path.Therefore, if/when the cluster restarts, the downloaded dataset will be lost.The persistent storage options for this workspace/cluster config are: [DBFS].Please update either `cache_dir` or the environment variable `HF_DATASETS_CACHE`to be under one of the following root directories: ['/dbfs/']\n  warnings.warn(warning_message)\n/databricks/python_shell/lib/dbruntime/huggingface_patches/datasets.py:14: UserWarning: During large dataset downloads, there could be multiple progress bar widgets that can cause performance issues for your notebook or browser. To avoid these issues, use `datasets.utils.logging.disable_progress_bar()` to turn off the progress bars.\n  warnings.warn(\n"
     ]
    },
    {
     "output_type": "stream",
     "name": "stdout",
     "output_type": "stream",
     "text": [
      "Number of samples in the dataset: 119924\n"
     ]
    }
   ],
   "source": [
    "### load the dataset \n",
    "dataset = load_dataset(\"ZhongshengWang/Alpaca-pubmed-summarization\", split=\"train\")\n",
    "print(\"Number of samples in the dataset: {}\".format(len(dataset)))\n"
   ]
  },
  {
   "cell_type": "code",
   "execution_count": 0,
   "metadata": {
    "application/vnd.databricks.v1+cell": {
     "cellMetadata": {
      "byteLimit": 2048000,
      "rowLimit": 10000
     },
     "inputWidgets": {},
     "nuid": "1956c150-8c36-49fa-ae82-81b9d121affb",
     "showTitle": false,
     "tableResultSettingsMap": {},
     "title": ""
    }
   },
   "outputs": [
    {
     "output_type": "stream",
     "name": "stdout",
     "output_type": "stream",
     "text": [
      "Dataset({\n    features: ['output', 'instruction', 'input'],\n    num_rows: 119924\n})\n"
     ]
    }
   ],
   "source": [
    "print(dataset)"
   ]
  },
  {
   "cell_type": "markdown",
   "metadata": {
    "application/vnd.databricks.v1+cell": {
     "cellMetadata": {},
     "inputWidgets": {},
     "nuid": "6cf7bce5-1d70-4a17-8bd9-0711c27e734f",
     "showTitle": false,
     "tableResultSettingsMap": {},
     "title": ""
    }
   },
   "source": [
    "## ALPACA - A format to store datasets "
   ]
  },
  {
   "cell_type": "markdown",
   "metadata": {
    "application/vnd.databricks.v1+cell": {
     "cellMetadata": {},
     "inputWidgets": {},
     "nuid": "78a4ebbe-507a-4f6a-b27f-8f6a836b6794",
     "showTitle": false,
     "tableResultSettingsMap": {},
     "title": ""
    }
   },
   "source": [
    "The dataset stored in the Alpaca data format, which is a specific structure used to store data for fine-tuning large language models. When creating a dataset for the Alpaca format, we need to have three things for each data sample:\n",
    "\n",
    "  1. instruction: A string that describes the task the model should perform.\n",
    "  2. input: Additional context or information (can be empty).\n",
    "  3. output: The desired response from the model.\n",
    "\n",
    "This is also a single turn dataset, which consists of an input prompt and a single outupt, denoting a 'single' interaction/exchange\n",
    "\n",
    "Lets view the dataset in a pandas dataframe:\n",
    "\n"
   ]
  },
  {
   "cell_type": "code",
   "execution_count": 0,
   "metadata": {
    "application/vnd.databricks.v1+cell": {
     "cellMetadata": {
      "byteLimit": 2048000,
      "rowLimit": 10000
     },
     "inputWidgets": {},
     "nuid": "080505be-34b9-43ab-9d87-1597654438cc",
     "showTitle": false,
     "tableResultSettingsMap": {},
     "title": ""
    }
   },
   "outputs": [],
   "source": [
    "data_frame = pd.DataFrame()\n",
    "columns_names = [\"input\", \"instruction\", \"output\"]\n",
    "for i in columns_names:\n",
    "    data_frame[i] = list(dataset[i])\n"
   ]
  },
  {
   "cell_type": "code",
   "execution_count": 0,
   "metadata": {
    "application/vnd.databricks.v1+cell": {
     "cellMetadata": {
      "byteLimit": 2048000,
      "rowLimit": 10000
     },
     "inputWidgets": {},
     "nuid": "7344b1a1-1a30-4c63-b4d5-542d716f61d6",
     "showTitle": false,
     "tableResultSettingsMap": {},
     "title": ""
    }
   },
   "outputs": [
    {
     "output_type": "execute_result",
     "data": {
      "text/html": [
       "<div>\n",
       "<style scoped>\n",
       "    .dataframe tbody tr th:only-of-type {\n",
       "        vertical-align: middle;\n",
       "    }\n",
       "\n",
       "    .dataframe tbody tr th {\n",
       "        vertical-align: top;\n",
       "    }\n",
       "\n",
       "    .dataframe thead th {\n",
       "        text-align: right;\n",
       "    }\n",
       "</style>\n",
       "<table border=\"1\" class=\"dataframe\">\n",
       "  <thead>\n",
       "    <tr style=\"text-align: right;\">\n",
       "      <th></th>\n",
       "      <th>input</th>\n",
       "      <th>instruction</th>\n",
       "      <th>output</th>\n",
       "    </tr>\n",
       "  </thead>\n",
       "  <tbody>\n",
       "    <tr>\n",
       "      <th>0</th>\n",
       "      <td>a recent systematic analysis showed that in 20...</td>\n",
       "      <td>Please help me complete the long-text summariz...</td>\n",
       "      <td>background : the present study was carried out...</td>\n",
       "    </tr>\n",
       "    <tr>\n",
       "      <th>1</th>\n",
       "      <td>it occurs in more than 50% of patients and may...</td>\n",
       "      <td>Please help me complete the long-text summariz...</td>\n",
       "      <td>backgroundanemia in patients with cancer who a...</td>\n",
       "    </tr>\n",
       "    <tr>\n",
       "      <th>2</th>\n",
       "      <td>tardive dystonia ( td ) , a rarer side effect ...</td>\n",
       "      <td>Please help me complete the long-text summariz...</td>\n",
       "      <td>tardive dystonia ( td ) is a serious side effe...</td>\n",
       "    </tr>\n",
       "    <tr>\n",
       "      <th>3</th>\n",
       "      <td>lepidoptera include agricultural pests that , ...</td>\n",
       "      <td>Please help me complete the long-text summariz...</td>\n",
       "      <td>many lepidopteran insects are agricultural pes...</td>\n",
       "    </tr>\n",
       "    <tr>\n",
       "      <th>4</th>\n",
       "      <td>syncope is caused by transient diffuse cerebra...</td>\n",
       "      <td>Please help me complete the long-text summariz...</td>\n",
       "      <td>we present an unusual case of recurrent cough ...</td>\n",
       "    </tr>\n",
       "  </tbody>\n",
       "</table>\n",
       "</div>"
      ],
      "text/plain": [
       "                                               input  ...                                             output\n",
       "0  a recent systematic analysis showed that in 20...  ...  background : the present study was carried out...\n",
       "1  it occurs in more than 50% of patients and may...  ...  backgroundanemia in patients with cancer who a...\n",
       "2  tardive dystonia ( td ) , a rarer side effect ...  ...  tardive dystonia ( td ) is a serious side effe...\n",
       "3  lepidoptera include agricultural pests that , ...  ...  many lepidopteran insects are agricultural pes...\n",
       "4  syncope is caused by transient diffuse cerebra...  ...  we present an unusual case of recurrent cough ...\n",
       "\n",
       "[5 rows x 3 columns]"
      ]
     },
     "execution_count": 5,
     "metadata": {},
     "output_type": "execute_result"
    }
   ],
   "source": [
    "\n",
    "data_frame.head()"
   ]
  },
  {
   "cell_type": "code",
   "execution_count": 0,
   "metadata": {
    "application/vnd.databricks.v1+cell": {
     "cellMetadata": {
      "byteLimit": 2048000,
      "rowLimit": 10000
     },
     "inputWidgets": {},
     "nuid": "b4c114d8-d42f-4325-ba73-c2560f1a7ec4",
     "showTitle": false,
     "tableResultSettingsMap": {},
     "title": ""
    }
   },
   "outputs": [],
   "source": [
    "### turn the above back to a hugging face dataset\n",
    "dataset_hf = Dataset.from_pandas(data_frame)"
   ]
  },
  {
   "cell_type": "code",
   "execution_count": 0,
   "metadata": {
    "application/vnd.databricks.v1+cell": {
     "cellMetadata": {
      "byteLimit": 2048000,
      "rowLimit": 10000
     },
     "inputWidgets": {},
     "nuid": "4167ea25-bc85-45ff-b91d-0d75061fac68",
     "showTitle": false,
     "tableResultSettingsMap": {},
     "title": ""
    }
   },
   "outputs": [
    {
     "output_type": "stream",
     "name": "stdout",
     "output_type": "stream",
     "text": [
      "Dataset({\n    features: ['input', 'instruction', 'output'],\n    num_rows: 119924\n})\n"
     ]
    }
   ],
   "source": [
    "print(dataset_hf)"
   ]
  },
  {
   "cell_type": "code",
   "execution_count": 0,
   "metadata": {
    "application/vnd.databricks.v1+cell": {
     "cellMetadata": {
      "byteLimit": 2048000,
      "rowLimit": 10000
     },
     "inputWidgets": {},
     "nuid": "db6cfb17-3358-4e67-9c46-5e94a42b862b",
     "showTitle": false,
     "tableResultSettingsMap": {},
     "title": ""
    }
   },
   "outputs": [
    {
     "output_type": "stream",
     "name": "stdout",
     "output_type": "stream",
     "text": [
      "a recent systematic analysis showed that in 2011 , 314 ( 296 - 331 ) million children younger than 5 years were mildly , moderately or severely stunted and 258 ( 240 - 274 ) million were mildly , moderately or severely underweight in the developing countries . \n in iran a study among 752 high school girls in sistan and baluchestan showed prevalence of 16.2% , 8.6% and 1.5% , for underweight , overweight and obesity , respectively . \n the prevalence of malnutrition among elementary school aged children in tehran varied from 6% to 16% . \n anthropometric study of elementary school students in shiraz revealed that 16% of them suffer from malnutrition and low body weight . \n snack should have 300 - 400 kcal energy and could provide 5 - 10 g of protein / day . nowadays , school nutrition programs are running as the national programs , world - wide . national school lunch program in the united states \n there are also some reports regarding school feeding programs in developing countries . in vietnam , \n school base program showed an improvement in nutrient intakes . in iran a national free food program ( nffp ) \n is implemented in elementary schools of deprived areas to cover all poor students . however , this program is not conducted in slums and poor areas of the big cities so many malnourished children with low socio - economic situation are not covered by nffp . although the rate of poverty in areas known as deprived is higher than other areas , many students in deprived areas are not actually poor and can afford food . \n hence , nutritional value of the nffp is lower than the scientific recommended snacks for this age group . \n furthermore , lack of variety of food packages has decreased the tendency of children toward nffp . on the other hand , \n the most important one is ministry of education ( moe ) of iran , which is responsible for selecting and providing the packages for targeted schools . \n the ministry of health ( moh ) is supervising the health situation of students and their health needs . \n welfare organizations , along with charities , have the indirect effect on nutritional status of students by financial support of their family . \n provincial governors have also the role of coordinating and supervising all activities of these organizations . \n parent - teacher association is a community - based institution that participates in school 's policy such as nffp . \n in addition to these organizations , nutritional literacy of students , their parents and teachers , is a very important issue , which could affect nutritional status of school age children . \n therefore , the present study was conducted with the aim of improving the nffp , so that by its resources all poor children will be covered even in big cities . \n moreover , all food packages were replaced by nutritious and diverse packages that were accessible for non - poor children . according to the aim of this study and multiple factors that could affect the problem , \n public health advocacy has been chosen as the best strategy to deal with this issue . \n therefore , the present study determines the effects of nutrition intervention in an advocacy process model on the prevalence of underweight in school aged children in the poor area of shiraz , iran . \n this interventional study has been carried out between 2009 and 2010 in shiraz , iran . \n this survey was approved by the research committee of shiraz university of medical sciences . in coordination with education organization of fars province \n two elementary schools and one middle school in the third region of the urban area of shiraz were selected randomly . in those schools all \n students ( 2897 , 7 - 13 years old ) were screened based on their body mass index ( bmi ) by nutritionists . according to convenience method all \n students divided to two groups based on their economic situation ; family revenue and head of household 's job and nutrition situation ; the first group were poor and malnourished students and the other group were well nourished or well - off students . \n for this report , the children 's height and weight were entered into center for disease control and prevention ( cdc ) to calculate bmi and bmi - for - age z - scores based on cdc for diseases control and prevention and growth standards . \n the significance of the difference between proportions was calculated using two - tailed z - tests for independent proportions . for implementing the interventions , \n the advocacy process model weight was to the nearest 0.1 kg on a balance scale ( model # seca scale ) . \n standing height was measured to the nearest 0.1 cm with a wall - mounted stadiometer . \n advocacy group formation : this step was started with stakeholder analysis and identifying the stakeholders . \n the team was formed with representatives of all stakeholders include ; education organization , welfare organization , deputy for health of shiraz university , food and cosmetic product supervisory office and several non - governmental organizations and charities . situation analysis : this was carried out by use of existing data such as formal report of organizations , literature review and focus group with experts . \n the prevalence of malnutrition and its related factors among students was determined and weaknesses and strengths of the nffp were analyzed . \n accordingly , three sub - groups were established : research and evaluation , education and justification and executive group . designing the strategies : \n three strategies were identified ; education and justification campaign , nutritional intervention ( providing nutritious , safe and diverse snacks ) and networking . performing the interventions : interventions that were implementing in selected schools were providing a diverse and nutritious snack package along with nutrition education for both groups while the first group ( poor and malnourished students ) was utilized the package free of charge . \n education and justification intervention : regarding the literature review and expert opinion , an educational group affiliated with the advocacy team has prepared educational booklets about nutritional information for each level ( degree ) . \n accordingly , education of these booklets has been integrated into regular education of students and they educated and justified for better nutrition life - style . \n it leads the educational group to hold several meeting with the student 's parents to justify them about the project and its benefit for their children . \n after these meetings , parental desire for participation in the project illustrated the effectiveness of the justification meeting with them . \n for educate fifteen talk show programs in tv and radio , 12 published papers in the local newspaper , have implemented to mobilize the community and gain their support . \n healthy diet , the importance of breakfast and snack in adolescence , wrong food habits among school age children , role of the family to improve food habit of children were the main topics , in which media campaign has focused on . \n nutritional intervention : the snack basket of the students was replaced with traditional , nutritious and diverse foods . in general , the new snack package in average has provided 380 kcal energy , 15 g protein along with sufficient calcium and iron . \n low economic and malnourished children were supported by executive group affiliated with advocacy team and the rest of them prepare their snack by themselves . \n research and evaluation : in this step , the literacy and anthropometric indices ( bmi ) of students were assessed before and after the interventions . \n the reference for anthropometric measures was the world health organization / national center for health statistics ( who / nchs ) standards and the cut - offs were - two standard deviations ( sd ) from the mean . \n each student that was malnourished and poor has been taken into account for free food and nutritious snacks . \n demographic information , height , weight and knowledge of the students were measured by use of a validated and reliable ( cronbach 's alpha was 0.61 ) questionnaire . \n this project is granted by shiraz university of medical sciences , charities and welfare organization and education organization of fars province . \n statistical analyses were performed using the statistical package for the social sciences ( spss ) software , version 17.0 ( spss inc . , \n the results are expressed as mean  sd and proportions as appropriated . in order to determine the effective variables on the malnutrition status \n paired t test was used to compare the end values with baseline ones in each group . \n in this project , the who z - score cut - offs used were as follow : using bmi - for - age z - scores ; overweight : > + 1 sd , i.e. , z - score > 1 ( equivalent to bmi 25 kg / m ) , obesity : > + 2 sd ( equivalent to bmi 30 kg / m ) , thinness : < 2 sd and severe thinness : < 3 sd . \n this interventional study has been carried out between 2009 and 2010 in shiraz , iran . \n this survey was approved by the research committee of shiraz university of medical sciences . in coordination with education organization of fars province \n two elementary schools and one middle school in the third region of the urban area of shiraz were selected randomly . in those schools all \n students ( 2897 , 7 - 13 years old ) were screened based on their body mass index ( bmi ) by nutritionists . according to convenience method all \n students divided to two groups based on their economic situation ; family revenue and head of household 's job and nutrition situation ; the first group were poor and malnourished students and the other group were well nourished or well - off students . \n for this report , the children 's height and weight were entered into center for disease control and prevention ( cdc ) to calculate bmi and bmi - for - age z - scores based on cdc for diseases control and prevention and growth standards . \n the significance of the difference between proportions was calculated using two - tailed z - tests for independent proportions . for implementing the interventions , \n weight was to the nearest 0.1 kg on a balance scale ( model # seca scale ) . \n standing height was measured to the nearest 0.1 cm with a wall - mounted stadiometer . \n advocacy group formation : this step was started with stakeholder analysis and identifying the stakeholders . \n the team was formed with representatives of all stakeholders include ; education organization , welfare organization , deputy for health of shiraz university , food and cosmetic product supervisory office and several non - governmental organizations and charities . situation analysis : this was carried out by use of existing data such as formal report of organizations , literature review and focus group with experts . \n the prevalence of malnutrition and its related factors among students was determined and weaknesses and strengths of the nffp were analyzed . \n accordingly , three sub - groups were established : research and evaluation , education and justification and executive group . designing the strategies : \n three strategies were identified ; education and justification campaign , nutritional intervention ( providing nutritious , safe and diverse snacks ) and networking . performing the interventions : interventions that were implementing in selected schools were providing a diverse and nutritious snack package along with nutrition education for both groups while the first group ( poor and malnourished students ) was utilized the package free of charge . duration of intervention was 6 months . \n education and justification intervention : regarding the literature review and expert opinion , an educational group affiliated with the advocacy team has prepared educational booklets about nutritional information for each level ( degree ) . \n accordingly , education of these booklets has been integrated into regular education of students and they educated and justified for better nutrition life - style . obviously , student 's families had remarkable effect on children 's food habit . \n it leads the educational group to hold several meeting with the student 's parents to justify them about the project and its benefit for their children . \n after these meetings , parental desire for participation in the project illustrated the effectiveness of the justification meeting with them . \n educate fifteen talk show programs in tv and radio , 12 published papers in the local newspaper , have implemented to mobilize the community and gain their support . \n healthy diet , the importance of breakfast and snack in adolescence , wrong food habits among school age children , role of the family to improve food habit of children were the main topics , in which media campaign has focused on . \n nutritional intervention : the snack basket of the students was replaced with traditional , nutritious and diverse foods . in general , the new snack package in average has provided 380 kcal energy , 15 g protein along with sufficient calcium and iron . \n low economic and malnourished children were supported by executive group affiliated with advocacy team and the rest of them prepare their snack by themselves . \n research and evaluation : in this step , the literacy and anthropometric indices ( bmi ) of students were assessed before and after the interventions . \n the reference for anthropometric measures was the world health organization / national center for health statistics ( who / nchs ) standards and the cut - offs were - two standard deviations ( sd ) from the mean . \n each student that was malnourished and poor has been taken into account for free food and nutritious snacks . \n demographic information , height , weight and knowledge of the students were measured by use of a validated and reliable ( cronbach 's alpha was 0.61 ) questionnaire . \n this project is granted by shiraz university of medical sciences , charities and welfare organization and education organization of fars province . \n advocacy group formation : this step was started with stakeholder analysis and identifying the stakeholders . \n the team was formed with representatives of all stakeholders include ; education organization , welfare organization , deputy for health of shiraz university , food and cosmetic product supervisory office and several non - governmental organizations and charities . \n situation analysis : this was carried out by use of existing data such as formal report of organizations , literature review and focus group with experts . \n the prevalence of malnutrition and its related factors among students was determined and weaknesses and strengths of the nffp were analyzed . \n accordingly , three sub - groups were established : research and evaluation , education and justification and executive group . \n designing the strategies : three strategies were identified ; education and justification campaign , nutritional intervention ( providing nutritious , safe and diverse snacks ) and networking . \n performing the interventions : interventions that were implementing in selected schools were providing a diverse and nutritious snack package along with nutrition education for both groups while the first group ( poor and malnourished students ) was utilized the package free of charge . \n education and justification intervention : regarding the literature review and expert opinion , an educational group affiliated with the advocacy team has prepared educational booklets about nutritional information for each level ( degree ) . \n accordingly , education of these booklets has been integrated into regular education of students and they educated and justified for better nutrition life - style . obviously , student 's families had remarkable effect on children 's food habit . \n it leads the educational group to hold several meeting with the student 's parents to justify them about the project and its benefit for their children . \n after these meetings , parental desire for participation in the project illustrated the effectiveness of the justification meeting with them . \n educate fifteen talk show programs in tv and radio , 12 published papers in the local newspaper , have implemented to mobilize the community and gain their support . \n healthy diet , the importance of breakfast and snack in adolescence , wrong food habits among school age children , role of the family to improve food habit of children were the main topics , in which media campaign has focused on . nutritional intervention : the snack basket of the students \n was replaced with traditional , nutritious and diverse foods . in general , the new snack package in average has provided 380 kcal energy , 15 g protein along with sufficient calcium and iron . \n low economic and malnourished children were supported by executive group affiliated with advocacy team and the rest of them prepare their snack by themselves . \n research and evaluation : in this step , the literacy and anthropometric indices ( bmi ) of students were assessed before and after the interventions . \n the reference for anthropometric measures was the world health organization / national center for health statistics ( who / nchs ) standards and the cut - offs were - two standard deviations ( sd ) from the mean . \n each student that was malnourished and poor has been taken into account for free food and nutritious snacks . \n demographic information , height , weight and knowledge of the students were measured by use of a validated and reliable ( cronbach 's alpha was 0.61 ) questionnaire . \n this project is granted by shiraz university of medical sciences , charities and welfare organization and education organization of fars province . \n statistical analyses were performed using the statistical package for the social sciences ( spss ) software , version 17.0 ( spss inc . , chicago , il , usa ) . \n the results are expressed as mean  sd and proportions as appropriated . in order to determine the effective variables on the malnutrition status \n paired t test was used to compare the end values with baseline ones in each group . \n two - sided p < 0.05 was considered to be statistically significant . in this project , \n the who z - score cut - offs used were as follow : using bmi - for - age z - scores ; overweight : > + 1 sd , i.e. , z - score > 1 ( equivalent to bmi 25 kg / m ) , obesity : > + 2 sd ( equivalent to bmi 30 \n kg / m ) , thinness : < 2 sd and severe thinness : < 3 sd . \n study population contains 2897 children ; 70.8% were primary school students and 29.2% were secondary school students . \n 2336 ( 80.5% ) out of total students were well - off and 561 children ( 19.5% ) were indigent . \n 19.5% of subjects were in case group ( n = 561 ) and 80.5% were in the control group ( n = 2336 ) . \n the mean of age in welfare group was 10.0  2.3 and 10.5  2.5 in non - welfare group . \n demographic characteristics of school aged children in shiraz , iran table 2 shows the frequency of subjects in different categories of bmi for age in non - welfare and welfare groups of school aged children separately among boys and girls before and after a nutrition intervention based on advocacy process model in shiraz , iran . \n the frequency of subjects with bmi lower than < 2 sd decreased significantly after intervention among non - welfare girls ( p < 0.01 ) . \n however , there were no significant decreases in the frequency of subjects with bmi lower than < 2 sd boys . \n when we assess the effect of intervention in total population without separating by sex groups , we found no significant change in this population [ table 3 ] . \n bmi for age for iranian students aged 7 - 14 years based on gender according to who growth standards 2007 bmi for age for iranian students aged 7 - 14 years according to who growth standards 2007 in non - welfare and welfare groups of total population table 4 has shown the prevalence of normal bmi , mild , moderate and severe malnutrition in non - welfare and welfare groups of school aged children separately among boys and girls before and after a nutrition intervention based on advocacy process model . according to this table \n there were no significant differences in the prevalence of mild , moderate and severe malnutrition among girls and boys . \n table 4 also shows the mean of all anthropometric indices changed significantly after intervention both among girls and boys . \n the pre- and post - test education assessment in both groups showed that the student 's average knowledge score has been significantly increased from 12.5  3.2 to 16.8  4.3 ( p < 0.0001 ) . \n bmi , height and weight in non - welfare and welfare groups of school aged children separately in males and females before and after a nutrition intervention based on advocacy process model in shiraz , iran according to study 's finding the odds ratio ( or ) of sever thinness and thinness in non - welfare compared with welfare is 3.5 ( or = 3.5 , confidence interval [ ci ] = 2.5 - 3.9 , p < 0.001 ) . \n furthermore , the finding showed or of overweight and obesity in welfare compared to non - welfare is 19.3 ( or = 19.3 , ci = 2.5 - 3.9 , p = 0.04 ) . \n the result of this community intervention study revealed that nutrition intervention based on advocacy program had been successful to reduce the prevalence of underweight among poor girls . \n this study shows determinant factor of nutritional status of school age children was their socio - economic level . according to our knowledge , \n this is the first study , which determines the effect of a community intervention based on advocacy process on the malnutrition indices in a big city ( shiraz ) in iran . \n the other program in iran ( nffp ) is specified to deprived area and is not conducted in big cities . \n allocating millions of dollars to nffp by government , selecting the malnourished students through an active screening system at primary and middle schools , paying attention of policy makers to student 's nutrition have provided the opportunity to combat the problem . however , negligence of under - poverty line , providing poor snacks in terms of nutritional value and lack of variety are the main defects of this program . \n advocacy by definition is a blending of science , ethics and politics for comprehensive approaching health issues . by using advocacy program in california among the high school students for improving their nutrition and physical activity \n angeles unified school district participants emphasized on nutrition classes for families as well as students in addition to other interventions . in the present study \n another study revealed that evaluability assessment gave stakeholders the opportunity to reflect on the project and its implementation issues . \n it seems that in iran , free food program among the students not only is needed in deprived areas , but also it should be performed in big cities such as shiraz . at baseline , \n no significant difference was founded among wealthy students between the pre- and post - nutritional status intervention . \n in contrast , the numbers of students who have malnutrition decreased from 44% to 39.4% , which was identified as a significant among impecunious girls students . \n there was also a significant increase in the proportion of children with bmi that was normal for age ( 2 to + 1 sd ) most of the published community interventions showed better results among females compared with males . \n this difference in the impact of nutritional interventions between male and female might be related to the different age of puberty in the female population compared to the male population . in the age range of the present study female \n although , there is no nffp in big cities of iran , there are some programs for improving the nutritional status such as providing free milk in schools . \n a recent publication has shown that school feeding programs focus on milk supplementation had beneficial effects on the physical function and school performances specifically among girls in iran . \n the results of the mentioned study showed an improvement in the weight of children , psychological test 's scores and the grade - point average following this school feeding program . \n the intervention in the present study had focused on the snack intake in the school time . \n there are some reports regarding the nutrition transition in iran , which shows the importance of nutrition intervention to provide more healthy eating dietary habits among welfare groups of adolescents . \n hence , nutrition intervention especially in the form of nutrition education is needed in big cities and among welfare children and adolescents . although a study among iranian adolescents showed that dietary behavior of adolescents does not accord to their knowledge , which emphasize on the necessity of community intervention programs . a recent study regarding the major dietary pattern among iranian children showed the presence of four major dietary patterns , in which fast food pattern and sweet pattern as two major dietary patterns can be mentioned among iranian children . in advocacy program audience 's analysis \n accordingly , one of the prominent strategies in this study was working with media and was meeting with parent - teacher association that both of them were secondary target audiences \n . we also took into account policy makers in different levels , from national to local as primary audiences . \n advocacy team had several meetings with management and planning organization at national level and education organization of the fars province as well as principal of the targeted schools . \n providing nutritious snacks need contribution of private sector such as food industries or factories , but their benefits should be warranted . \n another choice was community involvement ; which can be achieved by female health volunteers who are working with the health system . \n advocacy team by using the support of charities and female health volunteers could establish a local factory that produced student 's snacks based on the new definition . however , there are some challenges on the way of expanding this program . \n mass production of the proposed snacks according to different desires and cultures and getting involvement of food industries with respect to marketing issues is one of those challenges . \n moreover , providing a supportive environment in order to change the food habits of the students and their parents among the wide range of the population require a sustainable and continuous inter - sector collaboration . \n although in a limited number of schools , in our study , interventions and advocacy program was successful , expanding this model to another areas around the country depends on convincing the policy makers at national level . in this \n regard , advocacy team should prepare evidenced based profile and transitional planning to convince the policy makers for improving the rule and regulation of nffp . \n the same as this study in other studies have also emphasized that there must be efforts to strengthen the capacity within the schools to deal with the nutritional problems either overweight , obesity or malnutrition by using of educational and nutritional intervention . \n assessing the dietary adherence is very important in nutrition intervention among population . as this population was children and adolescents we had a limitation in the blood sample collection to assess the subject 's dietary adherence . \n furthermore , this intervention was only focused on the intake of snack in school time and we did not have comprehensive information on the dietary intake of children and adolescents after school all over the day . \n the investigators propose further investigation in different areas of the country based on socio - cultural differences in order to make necessary modification and adapt this model to other areas . \n regarding the nutritional needs of the school age children , provision of a good platform for implementing and expanding this efficient model to the whole country based upon the socio - economic situation of each region is advisable to the moh and the moe . \n community nutrition intervention based on the advocacy process model is effective on reducing the prevalence of underweight specifically among female school aged children .\n"
     ]
    }
   ],
   "source": [
    "input_1 = dataset_hf['input']\n",
    "print(input_1[0])"
   ]
  },
  {
   "cell_type": "markdown",
   "metadata": {
    "application/vnd.databricks.v1+cell": {
     "cellMetadata": {},
     "inputWidgets": {},
     "nuid": "756a32bb-730a-4d79-bf0d-c8361a99b721",
     "showTitle": false,
     "tableResultSettingsMap": {},
     "title": ""
    }
   },
   "source": [
    "## Chat template \n",
    "Once you have your dataset ready, the next step includes converting the datapoints into the chat template the model would understand. The catch here is that different models expect very different input formats for chat. Chat templates are part of the tokenizer for text-only LLMs or processor for multimodal LLMs. They specify how to convert conversations, represented as lists of messages, into a single tokenizable string in the format that the model expects.\n",
    "\n",
    "All chat templates include special tokens that the model uses to highlight when someone has stopped speaking or when the conversation has ended. \n",
    "\n",
    "Usually, the tokenizer class from hugging face has the template built into it, however, they are now deprecating them going forward. Hence, we will have to manually create the template to train the model\n",
    "\n",
    "Lets load the tokenizer first:"
   ]
  },
  {
   "cell_type": "code",
   "execution_count": 0,
   "metadata": {
    "application/vnd.databricks.v1+cell": {
     "cellMetadata": {
      "byteLimit": 2048000,
      "rowLimit": 10000
     },
     "inputWidgets": {},
     "nuid": "1151bf77-2442-44b8-a745-33ba2a35c66d",
     "showTitle": false,
     "tableResultSettingsMap": {},
     "title": ""
    }
   },
   "outputs": [],
   "source": [
    "## insert access token \n",
    "os.environ['HF_TOKEN'] = \"\""
   ]
  },
  {
   "cell_type": "code",
   "execution_count": 0,
   "metadata": {
    "application/vnd.databricks.v1+cell": {
     "cellMetadata": {
      "byteLimit": 2048000,
      "rowLimit": 10000
     },
     "inputWidgets": {},
     "nuid": "018247b4-af05-4706-914a-1dd7d32b1653",
     "showTitle": false,
     "tableResultSettingsMap": {},
     "title": ""
    }
   },
   "outputs": [],
   "source": [
    "### \n",
    "model_name = \"meta-llama/Llama-3.2-1B\" \n",
    "tokenizer = AutoTokenizer.from_pretrained(model_name, token = os.environ['HF_TOKEN'])"
   ]
  },
  {
   "cell_type": "markdown",
   "metadata": {
    "application/vnd.databricks.v1+cell": {
     "cellMetadata": {},
     "inputWidgets": {},
     "nuid": "d74301c2-9ad5-4887-b095-349b508833b4",
     "showTitle": false,
     "tableResultSettingsMap": {},
     "title": ""
    }
   },
   "source": [
    "**Now lets view the special tokens present in the tokenizer:**"
   ]
  },
  {
   "cell_type": "code",
   "execution_count": 0,
   "metadata": {
    "application/vnd.databricks.v1+cell": {
     "cellMetadata": {
      "byteLimit": 2048000,
      "rowLimit": 10000
     },
     "inputWidgets": {},
     "nuid": "f4028124-96bb-4429-9d62-304125788888",
     "showTitle": false,
     "tableResultSettingsMap": {},
     "title": ""
    }
   },
   "outputs": [
    {
     "output_type": "stream",
     "name": "stdout",
     "output_type": "stream",
     "text": [
      "['<|begin_of_text|>', '<|end_of_text|>']\n"
     ]
    }
   ],
   "source": [
    "print(tokenizer.all_special_tokens)"
   ]
  },
  {
   "cell_type": "markdown",
   "metadata": {
    "application/vnd.databricks.v1+cell": {
     "cellMetadata": {},
     "inputWidgets": {},
     "nuid": "037d8c02-af62-483d-9f4e-152dc86f83e2",
     "showTitle": false,
     "tableResultSettingsMap": {},
     "title": ""
    }
   },
   "source": [
    "Given that the aim of this notebook is to demmostrate, we will train the model on the first 1000 samples. Lets define a mapping function to convert the datapoints into a template the model can easily ingest"
   ]
  },
  {
   "cell_type": "code",
   "execution_count": 0,
   "metadata": {
    "application/vnd.databricks.v1+cell": {
     "cellMetadata": {
      "byteLimit": 2048000,
      "rowLimit": 10000
     },
     "inputWidgets": {},
     "nuid": "429d89ba-8164-469c-919f-02070c511550",
     "showTitle": false,
     "tableResultSettingsMap": {},
     "title": ""
    }
   },
   "outputs": [
    {
     "output_type": "display_data",
     "data": {
      "application/vnd.jupyter.widget-view+json": {
       "model_id": "1d86b2de56e04c8f829b9371c1739bbe",
       "version_major": 2,
       "version_minor": 0
      },
      "text/plain": [
       "Map:   0%|          | 0/1000 [00:00<?, ? examples/s]"
      ]
     },
     "metadata": {},
     "output_type": "display_data"
    }
   ],
   "source": [
    "def mapping_func(exmaple):\n",
    "    prompt_string = \"\"\"<|begin_of_text|>ou are an expert within the medical domain, {instruction}\\n Input: {input} \\n output: {output}<|end_of_text|>\"\"\".format(instruction=exmaple['instruction'], input=exmaple['input'], output=exmaple['output'])\n",
    "\n",
    "    return {'prompt': prompt_string}\n",
    "\n",
    "### Lets shuffle the dataset first \n",
    "hf_dataset = dataset_hf.shuffle(seed = 1234)\n",
    "\n",
    "### Index the dataset to a smaller dataset (100 samples). Indexing causes the dataset to convert to a dictionary, hence we will need to use the Dataset class to convert it back\n",
    "hf_dataset = Dataset.from_dict(hf_dataset[:1000])\n",
    "\n",
    "### Use the .map function to apply the mapping function to each element of the dataset. Moreover, we will also get rid of the \"intruction\", \"output\", \"input\" columns save GPU memory when the data gets loaded\n",
    "hf_dataset= hf_dataset.map(mapping_func).remove_columns([\"instruction\", \"input\", \"output\"])\n",
    "\n",
    "### Create the trianing and evaluation datasets\n",
    "hf_dataset = hf_dataset.train_test_split(test_size = 0.1)\n",
    "training_data = hf_dataset['train']\n",
    "evaluation_data = hf_dataset['test']"
   ]
  },
  {
   "cell_type": "code",
   "execution_count": 0,
   "metadata": {
    "application/vnd.databricks.v1+cell": {
     "cellMetadata": {
      "byteLimit": 2048000,
      "rowLimit": 10000
     },
     "inputWidgets": {},
     "nuid": "957bcbac-c317-4f76-aa03-abff4aec88c8",
     "showTitle": false,
     "tableResultSettingsMap": {},
     "title": ""
    }
   },
   "outputs": [
    {
     "output_type": "stream",
     "name": "stdout",
     "output_type": "stream",
     "text": [
      "900\n"
     ]
    }
   ],
   "source": [
    "print(len(training_data))"
   ]
  },
  {
   "cell_type": "markdown",
   "metadata": {
    "application/vnd.databricks.v1+cell": {
     "cellMetadata": {},
     "inputWidgets": {},
     "nuid": "1959cc89-3499-4a4c-9ee5-f1f2341667dc",
     "showTitle": false,
     "tableResultSettingsMap": {},
     "title": ""
    }
   },
   "source": [
    "**Lets have a look at how the template looks like for a datapoint**"
   ]
  },
  {
   "cell_type": "code",
   "execution_count": 0,
   "metadata": {
    "application/vnd.databricks.v1+cell": {
     "cellMetadata": {
      "byteLimit": 2048000,
      "rowLimit": 10000
     },
     "inputWidgets": {},
     "nuid": "e5666327-a483-4c35-9b31-fa6d9a03d827",
     "showTitle": false,
     "tableResultSettingsMap": {},
     "title": ""
    }
   },
   "outputs": [],
   "source": [
    "\n",
    "tokenised = tokenizer.encode(training_data['prompt'][0], return_tensors=\"pt\")\n",
    "untokenised = tokenizer.decode(tokenised[0])"
   ]
  },
  {
   "cell_type": "code",
   "execution_count": 0,
   "metadata": {
    "application/vnd.databricks.v1+cell": {
     "cellMetadata": {
      "byteLimit": 2048000,
      "rowLimit": 10000
     },
     "inputWidgets": {},
     "nuid": "1291c201-7a7b-4045-a42a-636034135845",
     "showTitle": false,
     "tableResultSettingsMap": {},
     "title": ""
    }
   },
   "outputs": [
    {
     "output_type": "stream",
     "name": "stdout",
     "output_type": "stream",
     "text": [
      "<|begin_of_text|><|begin_of_text|>ou are an expert within the medical domain, Please help me complete the long-text summarization task, where the long text is 'input' and the summarized result is 'output'.\n Input: neonatal tetanus is a preventable disease with high mortality and accounts for about 5 - 7% of neonatal death globally,123 mostly in developing countries. \n management is mainly focused on relief of symptoms and the prevention of complications such as aspiration pneumonia. \n a meticulous nursing care is required to prevent occurrence of complications and death caused due to neonatal tetanus. according to the world health organization ( who )'s global immunization news of march, 2013, \n nigeria is one of 30 remaining high - risk countries that have not achieved the maternal and neonatal tetanus elimination ( mnte ) goal yet.4 available data indicates that 18 states ( out of 37 ) are at risk for maternal and neonatal tetanus.4 many hospital based studies have identified neonatal tetanus as a problem of high magnitude in nigeria.5678 maternal immunization and improved obstetric and neonatal care are the main strategies in nigeria for improving protection against neonatal tetanus.4 recently, the high - risk approach of conducting tetanus toxoid ( tt ) supplementary immunization activities ( sias ) targeting women of reproductive age was conducted in three states of the federation and selected local government areas ( lgas ) in 5 other states including borno. \n health education to modify harmful cultural practices that directly encourage the risk of acquisition of tetanus is also useful.910 nigeria plans to achieve elimination in a phased manner by focusing on two zones ( south - east and south - west ) in 2013 - 2014 followed by the remaining four zones. \n the bulk of african countries, nigeria inclusive, have a very young population with more women in reproductive age group.11 this further underscores the need for increase action towards maternal tetanus immunization of women of child - bearing age if the scourge is to be controlled. \n a retrospective study of cases of neonatal tetanus in the university of maiduguri teaching hospital ( umth ) over a 2-year period, from january 2009 to december 2010 was carried out. \n the folders of all cases of neonatal tetanus admitted to the special care baby unit ( scbu ), university of maiduguri teaching hospital over the period under review were retrieved. \n information of the patients extracted included the sex, age, date of admission, date of discharge, total duration of hospital stay, place of delivery, cord care, probable portal of entry / site of injury, presenting complaints, period of onset, examination findings, diagnosis, associated morbidity / complications, management protocol, prognostic scores and outcome. \n maternal information obtained included the maternal immunization status, level of education, occupation and the social class of the children determined. \n the data obtained were subjected to a statistical analysis, using the chi - squared statistical test, where appropriate. a p - value of < 0.05 was considered significant. \n permission to conduct the study was obtained from the research and ethical committee of umth. \n there were 71 cases of neonatal tetanus admitted into scbu of the umth over the period under review, representing 4.9% of total admission into the unit. \n table 1 summarizes the socio - demographic and clinical characteristics of patients with neonatal tetanus. \n of the 51 neonates seen with neonatal tetanus, 30 ( 58.8% ) were males and 21 ( 41.2% ) were females, giving a male : female ratio of 1.4:1.0. \n their ages ranged between 3 and 21 days, with a mean and sd of 8.72  4.0 days. \n majority of the mothers 34 ( 66.7% ) had no tetanus immunization and most of the patients were from low social class, 23 ( 45.1% ) and 21 ( 41.2% ) in class v and iv, respectively. most of the mothers 48 ( 94.1% ) delivered at home assisted by traditional birth attendants / relatives in unhygienic settings and only 3 ( 5.9% ) delivered in health facility compared to 15 ( 29.4% ) who attended antenatal care ( anc ). \n socio - demographic and clinical characteristics of patients with neonatal tetanus the instruments commonly used in cutting the cords were razor blades and pair of scissors in 28 ( 54.9% ) and 4 ( 7.8% ) cases, respectively. in 18 ( 35.3% ) of the cases, \n various items used for cord care the probable portal of entry was the umbilical stump in 44 ( 86.3% ) of cases, while 4 ( 7.8% ) and 3 ( 5.9% ) cases were from scarification marks and mixed portal of entry, respectively. \n sepsis was identified as co - morbidity in 26 ( 51% ) of the patients. \n twenty - one ( 52.5% ) of the neonates had onset period less than 48 hours, while 17 ( 42.5% ) had onset period greater than 48 hours. \n table 3 summarizes the severity of the disease in the patients managed, while tables 4 and 5 show the duration of hospitalization and the outcome of the patients, respectively. \n severity of neonatal tetanus duration of hospital stay of patients with neonatal tetanus outcome of patients with neonatal tetanus clinical variables such as incubation period, onset period, co - morbidities, severity of the disease and duration of hospital stay all had statistically significant effect on the patients outcome [ table 6 ]. \n neonatal tetanus is still a significant cause of neonatal morbidity and mortality, accounting for 4.9% of all admissions into the scbu over the period under review with fatality rate of 66.7%. \n it has been reported that neonatal tetanus accounts for 5 - 7% of worldwide neonatal mortality.123 this is despite over two decades of commitments by the public health community globally to the elimination of tetanus ( defined as fewer than one case of neonatal tetanus per livebirths in all districts ) by 199512 as well as the renamed initiative of maternal and neonatal tetanus elimination by 2005, a decade ago.13 the high prevalence and mortality reported in this study is unacceptable in the 21 century. \n this could be due to the declining immunization coverage observed in this study with only 9.8% of mothers having had full immunization. \n in addition, harmful traditional practices towards cord care such as hot fomentation, application of charcoal, etc., would have also contributed. \n other studies have reported similar effects of these factors on neonatal tetanus.91014 the preponderance of male neonates with neonatal tetanus in this study is in accord with previous studies.561516 the reason for this finding is not clear, however, it could be partly explained by the preference given to the male child in the society that makes parents to seek for medical attention promptly. \n majority of mothers of the neonates with neonatal tetanus were not immunized against tetanus, a trend consistent with findings of other studies.51517 the high proportion of unimmunized and incompletely immunized mothers ( 74.5% ) could be attributed to the low anc attendance ( 29.4% ) among these women. in addition, the higher proportion of booked mothers when compared to those with complete or incomplete immunization ( 17.6% ) suggest that missed opportunity of tetanus vaccination among pregnant women attending anc would have contributed to the observed high rate of unimmunization. \n this finding is consistent with previous studies.1819 the parents of most of the patients with neonatal tetanus are of low socio - economic status as reported by other workers202122 which is a documented factor associated with increased risk of neonatal tetanus. \n a high number of neonates with neonatal tetanus in this study were delivered at home, and the main portal of entry for the organism was the umbilical cord as a result of unhygienic umbilical cord care practices. \n this finding is similar to previous findings7892023 there were no cases of circumcision or ear piercing recorded as probable portal of entry. \n the prognosis of neonatal tetanus is strongly influenced by both the incubation and onset periods. \n short incubation and onset periods correlates with increased disease severity and higher mortality.2425262728 this study confirms that co - morbidities such as sepsis identified in these patients worsen the severity of the illness as previously reported,293031 that about half of the neonates with neonatal tetanus also have sepsis and contribute significantly to neonatal mortality. the overall case - fatality of 66.7% in the present study falls within the range of 3.9 - 79.4% reported in nigeria.1620 the varied rates were attributed to difference in incubation and onset periods, associated co - morbidities as well as improvement in management.32 in conclusion, despite various programmes and concerted efforts towards elimination of neonatal tetanus, with readily available effective vaccine, the high prevalence and mortality reported across the country is disappointing. \n therefore, there is need to explore research and development trend at improving access points of vaccination such as slow - release mono - dose tetanus vaccine. \n this will undoubtedly improve compliance and lessen need of repeated injection.33 in addition ; revamping the school health programme in primary and secondary schools all over the country and incorporating mandatory tt vaccination will provide a good operational opportunity. hence, all efforts must be re - focused on strengthening the current strategies while developing new ones as well as advocacy on political will for the sustainability of immunization programmes in nigeria. \n output: background : neonatal tetanus is a vaccine preventable disease and is a leading cause of neonatal mortality in developing countries. \n the effectiveness of immunization and hygienic umbilical cord care practices in the prevention of the disease has been established.objective:the objective of this study was to audit the scourge of neonatal tetanus in a tertiary health facility in a resource - limited setting.materials and methods : the study was a retrospective study. \n case notes of neonates admitted with clinical diagnosis of tetanus into the special care baby unit ( scbu ) between january 2009 and december 2010 were retrieved and evaluated to identify socio - demographic and clinical characteristics, mode of acquisition and severity of the disease, presence of co - morbidities, duration of hospital stay and outcome.results:most of the mothers had no tetanus immunization ( 66.7% ) and the main social class of the children was class v ( 45.1% ) and iv ( 41.2% ), respectively. \n only 29.4% of the mothers attended ante - natal care ( anc ) while majority of the patients were delivered at home ( 94.1% ). \n half of the neonates presented with the severe form of the disease ( 51.0% ). \n sepsis is a prominent co - morbidity ( 59.2% ). \n morality was high with case fatality of 66.7%.conclusion : this high prevalence of neonatal tetanus with high mortality is not only disappointing but unacceptable in the 21st century. \n therefore, all efforts must be re - focused on current preventive strategies while pursuing new areas such as slow - release mono - dose tetanus vaccine and school health programme as well as advocacy on political will for the sustainability of immunization programmes of women of child - bearing age.<|end_of_text|>\n"
     ]
    }
   ],
   "source": [
    "print(untokenised)"
   ]
  },
  {
   "cell_type": "markdown",
   "metadata": {
    "application/vnd.databricks.v1+cell": {
     "cellMetadata": {},
     "inputWidgets": {},
     "nuid": "4b6f15f6-3eac-46d4-891d-df58917c739d",
     "showTitle": false,
     "tableResultSettingsMap": {},
     "title": ""
    }
   },
   "source": [
    "## Save the datasets\n",
    "We will store the datasets in a json format:"
   ]
  },
  {
   "cell_type": "code",
   "execution_count": 0,
   "metadata": {
    "application/vnd.databricks.v1+cell": {
     "cellMetadata": {
      "byteLimit": 2048000,
      "rowLimit": 10000
     },
     "inputWidgets": {},
     "nuid": "18b31ae9-5620-46eb-ad0a-5462f8b5cf9b",
     "showTitle": false,
     "tableResultSettingsMap": {},
     "title": ""
    }
   },
   "outputs": [
    {
     "output_type": "display_data",
     "data": {
      "application/vnd.jupyter.widget-view+json": {
       "model_id": "170c648e328c4418a8eb3c415511e27e",
       "version_major": 2,
       "version_minor": 0
      },
      "text/plain": [
       "Saving the dataset (0/1 shards):   0%|          | 0/900 [00:00<?, ? examples/s]"
      ]
     },
     "metadata": {},
     "output_type": "display_data"
    },
    {
     "output_type": "display_data",
     "data": {
      "application/vnd.jupyter.widget-view+json": {
       "model_id": "13a9828514d0401991e7a2394142e971",
       "version_major": 2,
       "version_minor": 0
      },
      "text/plain": [
       "Saving the dataset (0/1 shards):   0%|          | 0/100 [00:00<?, ? examples/s]"
      ]
     },
     "metadata": {},
     "output_type": "display_data"
    }
   ],
   "source": [
    "training_data.save_to_disk(\"training_data\")\n",
    "evaluation_data.save_to_disk(\"evaluation_data\")"
   ]
  }
 ],
 "metadata": {
  "application/vnd.databricks.v1+notebook": {
   "computePreferences": null,
   "dashboards": [],
   "environmentMetadata": {
    "base_environment": "",
    "client": "1"
   },
   "language": "python",
   "notebookMetadata": {
    "pythonIndentUnit": 4
   },
   "notebookName": "create_dataset",
   "widgets": {}
  },
  "language_info": {
   "name": "python"
  }
 },
 "nbformat": 4,
 "nbformat_minor": 0
}